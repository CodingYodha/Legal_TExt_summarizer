{
 "cells": [
  {
   "cell_type": "code",
   "execution_count": null,
   "metadata": {},
   "outputs": [],
   "source": [
    "import pandas as pd\n",
    "\n",
    "# Define the input CSV file paths\n",
    "uk_abs_csv = r\"E:\\Projects\\Legal-Text-Summarizer\\Legal_TExt_summarizer\\legal_summarization_UKAbs.csv\"  # Replace with the actual path\n",
    "in_abs_csv = r\"E:\\Projects\\Legal-Text-Summarizer\\Legal_TExt_summarizer\\legal_summarization_INAbs.csv\" # Replace with the actual path\n",
    "\n",
    "# Define the output CSV file paths\n",
    "train_csv = \"legal_train.csv\"\n",
    "val_csv = \"legal_val.csv\"\n",
    "\n",
    "# Load the two CSV files into pandas DataFrames\n",
    "uk_abs_data = pd.read_csv(uk_abs_csv)\n",
    "in_abs_data = pd.read_csv(in_abs_csv)\n",
    "\n",
    "# Combine both datasets into a single DataFrame\n",
    "combined_data = pd.concat([uk_abs_data, in_abs_data], ignore_index=True)\n",
    "\n",
    "# Shuffle the combined data to ensure randomness\n",
    "combined_data = combined_data.sample(frac=1, random_state=42).reset_index(drop=True)\n",
    "\n",
    "# Split the data into training (80%) and validation (20%) sets\n",
    "train_size = int(0.8 * len(combined_data))  # 80% for training\n",
    "train_data = combined_data[:train_size]\n",
    "val_data = combined_data[train_size:]\n",
    "\n",
    "# Save the split datasets to CSV files\n",
    "train_data.to_csv(train_csv, index=False)\n",
    "val_data.to_csv(val_csv, index=False)\n",
    "\n",
    "print(f\"Training data saved to '{train_csv}'\")\n",
    "print(f\"Validation data saved to '{val_csv}'\")\n"
   ]
  }
 ],
 "metadata": {
  "kernelspec": {
   "display_name": "base",
   "language": "python",
   "name": "python3"
  },
  "language_info": {
   "name": "python",
   "version": "3.12.3"
  }
 },
 "nbformat": 4,
 "nbformat_minor": 2
}
