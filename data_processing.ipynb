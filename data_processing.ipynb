{
 "cells": [
  {
   "cell_type": "code",
   "execution_count": null,
   "metadata": {},
   "outputs": [],
   "source": [
    "import os\n",
    "import csv"
   ]
  },
  {
   "cell_type": "code",
   "execution_count": 1,
   "metadata": {},
   "outputs": [],
   "source": [
    "base_folder = r'E:\\Projects\\Legal-Text-Summarizer\\dataset\\IN-Abs'\n",
    "output_csv = \"legal_summarization_INAbs.csv\""
   ]
  },
  {
   "cell_type": "code",
   "execution_count": 6,
   "metadata": {},
   "outputs": [
    {
     "name": "stdout",
     "output_type": "stream",
     "text": [
      "CSV file 'legal_summarization_UKAbs.csv' created successfully!\n"
     ]
    }
   ],
   "source": [
    "import os\n",
    "import csv\n",
    "\n",
    "base_folder = r'E:\\Projects\\Legal-Text-Summarizer\\dataset\\UK-Abs'\n",
    "output_csv = \"legal_summarization_UKAbs.csv\"\n",
    "\n",
    "# Function to extract text and summary from a .txt file\n",
    "def extract_text_and_summary(file_path):\n",
    "    with open(file_path, mode='r', encoding='utf-8') as file:\n",
    "        lines = file.readlines()\n",
    "        if len(lines) >= 2:  # Ensure at least two lines exist (text + summary)\n",
    "            text = lines[0].strip()  # First line as text\n",
    "            summary = lines[1].strip()  # Second line as summary\n",
    "            return text, summary\n",
    "        else:\n",
    "            return None, None\n",
    "\n",
    "# Initialize the CSV file\n",
    "with open(output_csv, mode='w', newline='', encoding='utf-8') as csv_file:\n",
    "    writer = csv.writer(csv_file)\n",
    "    writer.writerow([\"text\", \"summary\"])  # Write the header row\n",
    "\n",
    "    # Walk through all subdirectories and files in the base folder\n",
    "    for root, dirs, files in os.walk(base_folder):\n",
    "        for file_name in files:\n",
    "            if file_name.endswith(\".txt\"):  # Process only .txt files\n",
    "                file_path = os.path.join(root, file_name)\n",
    "                text, summary = extract_text_and_summary(file_path)\n",
    "                if text and summary:  # Only write if both text and summary exist\n",
    "                    writer.writerow([text, summary])\n",
    "\n",
    "print(f\"CSV file '{output_csv}' created successfully!\")\n"
   ]
  },
  {
   "cell_type": "code",
   "execution_count": null,
   "metadata": {},
   "outputs": [],
   "source": []
  }
 ],
 "metadata": {
  "kernelspec": {
   "display_name": "base",
   "language": "python",
   "name": "python3"
  },
  "language_info": {
   "codemirror_mode": {
    "name": "ipython",
    "version": 3
   },
   "file_extension": ".py",
   "mimetype": "text/x-python",
   "name": "python",
   "nbconvert_exporter": "python",
   "pygments_lexer": "ipython3",
   "version": "3.12.3"
  }
 },
 "nbformat": 4,
 "nbformat_minor": 2
}
